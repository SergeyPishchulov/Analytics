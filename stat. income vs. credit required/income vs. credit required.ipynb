{
 "cells": [
  {
   "cell_type": "code",
   "execution_count": 1,
   "id": "a6e61d9d-b1ac-4ffa-9dbd-067adb4463ae",
   "metadata": {},
   "outputs": [],
   "source": [
    "import numpy as np\n",
    "import pandas as pd\n",
    "import scipy\n",
    "import matplotlib.pyplot as plt\n",
    "from statsmodels.stats.weightstats import _zconfint_generic, _tconfint_generic\n",
    "from statsmodels.stats.proportion import proportion_confint"
   ]
  },
  {
   "cell_type": "markdown",
   "id": "1112821e-84d9-4318-b5b9-9f53cd56904d",
   "metadata": {},
   "source": [
    "**Задача**: построить доверительные интервалы для среднего дохода и средней запрошенной суммы кредита"
   ]
  },
  {
   "cell_type": "code",
   "execution_count": 2,
   "id": "3b0cfacf-e86a-4fee-a690-d57e9b1307d3",
   "metadata": {},
   "outputs": [],
   "source": [
    "df = pd.read_csv('data.csv', sep=',')\n",
    "df = df[df.required_amt < df.required_amt.quantile(0.99)]\n"
   ]
  },
  {
   "cell_type": "code",
   "execution_count": 3,
   "id": "f057ef94-5113-4021-ab51-5bca500ddd56",
   "metadata": {},
   "outputs": [
    {
     "data": {
      "text/plain": [
       "0       80000\n",
       "1       43000\n",
       "2       20000\n",
       "3       35000\n",
       "4       25000\n",
       "        ...  \n",
       "9995    28000\n",
       "9996    30000\n",
       "9997    31000\n",
       "9998    70000\n",
       "9999    40000\n",
       "Name: monthly_income_amt, Length: 9898, dtype: int64"
      ]
     },
     "execution_count": 3,
     "metadata": {},
     "output_type": "execute_result"
    }
   ],
   "source": [
    "income = df.monthly_income_amt\n",
    "income"
   ]
  },
  {
   "cell_type": "code",
   "execution_count": 4,
   "id": "1aa8e368-7b77-49c2-a050-5deda79668a0",
   "metadata": {},
   "outputs": [
    {
     "data": {
      "image/png": "[encoded data removed]",
      "text/plain": [
       "<Figure size 432x288 with 1 Axes>"
      ]
     },
     "metadata": {
      "needs_background": "light"
     },
     "output_type": "display_data"
    }
   ],
   "source": [
    "plt.hist(df.required_amt,\n",
    "           bins = 15,\n",
    "           color = 'b',\n",
    "           alpha = 0.9,\n",
    "           label = 'Запрошенная сумма')\n",
    "plt.show()\n",
    "\n"
   ]
  },
  {
   "cell_type": "code",
   "execution_count": 5,
   "id": "0175b69d-6e55-42fe-a4d2-8aed12b48863",
   "metadata": {},
   "outputs": [],
   "source": [
    "income = df.monthly_income_amt[df.monthly_income_amt < df.monthly_income_amt.quantile(0.99)]"
   ]
  },
  {
   "cell_type": "code",
   "execution_count": 6,
   "id": "aab7abaf-46a4-4e1e-93f6-ab98938476ec",
   "metadata": {},
   "outputs": [
    {
     "data": {
      "image/png": "[encoded data removed]",
      "text/plain": [
       "<Figure size 432x288 with 1 Axes>"
      ]
     },
     "metadata": {
      "needs_background": "light"
     },
     "output_type": "display_data"
    }
   ],
   "source": [
    "plt.hist(income,\n",
    "           bins = 15,\n",
    "           color = 'b',\n",
    "           alpha = 0.9)\n",
    "plt.show()"
   ]
  },
  {
   "cell_type": "code",
   "execution_count": 7,
   "id": "8e972492-cccb-4512-b5a3-a270a5d4c5da",
   "metadata": {},
   "outputs": [
    {
     "data": {
      "image/png": "[encoded data removed]",
      "text/plain": [
       "<Figure size 432x288 with 1 Axes>"
      ]
     },
     "metadata": {
      "needs_background": "light"
     },
     "output_type": "display_data"
    }
   ],
   "source": [
    "normed_income = np.log(income)\n",
    "plt.hist(normed_income,\n",
    "           bins = 35,\n",
    "           color = 'b',\n",
    "           alpha = 0.9)\n",
    "plt.show()"
   ]
  },
  {
   "cell_type": "code",
   "execution_count": 8,
   "id": "1698b2e1-099a-47af-94be-3dd8d1784b01",
   "metadata": {},
   "outputs": [
    {
     "data": {
      "text/plain": [
       "(9.513910881937884, 11.602852230164311)"
      ]
     },
     "execution_count": 8,
     "metadata": {},
     "output_type": "execute_result"
    }
   ],
   "source": [
    "alpha = 0.05\n",
    "sample = normed_income\n",
    "distr = scipy.stats.norm(sample.mean(), sample.std(ddof=1))\n",
    "income_normed_pred_int = distr.ppf(alpha/2), distr.ppf(1-alpha/2)\n",
    "income_normed_pred_int"
   ]
  },
  {
   "cell_type": "code",
   "execution_count": 9,
   "id": "f57509ef-fb8c-40d2-bc9a-d0790d998822",
   "metadata": {},
   "outputs": [
    {
     "data": {
      "text/plain": [
       "array([ 13546.87106511, 109409.4154998 ])"
      ]
     },
     "execution_count": 9,
     "metadata": {},
     "output_type": "execute_result"
    }
   ],
   "source": [
    "income_pred_int = np.exp(income_normed_pred_int)\n",
    "income_pred_int"
   ]
  },
  {
   "cell_type": "markdown",
   "id": "e45981b1-b60f-4ed1-9a13-a41f1b25b77c",
   "metadata": {},
   "source": [
    "### Результат. 95% Интервал для дохода (в рублях)\n",
    "##### [ 13546.87106511, 109409.4154998 ]\n",
    "</br></br></br>"
   ]
  },
  {
   "cell_type": "code",
   "execution_count": 10,
   "id": "d3edad74-338f-4e08-9fac-1dbe5d95352b",
   "metadata": {},
   "outputs": [],
   "source": [
    "required = df.required_amt[df.required_amt < df.required_amt.quantile(0.99)]"
   ]
  },
  {
   "cell_type": "code",
   "execution_count": 11,
   "id": "e8b4bbc6-1ea6-490d-b19b-3b59f551966d",
   "metadata": {},
   "outputs": [
    {
     "data": {
      "image/png": "[encoded data removed]",
      "text/plain": [
       "<Figure size 432x288 with 1 Axes>"
      ]
     },
     "metadata": {
      "needs_background": "light"
     },
     "output_type": "display_data"
    }
   ],
   "source": [
    "required = np.log(required)\n",
    "plt.hist(required,\n",
    "           bins = 35,\n",
    "           color = 'b',\n",
    "           alpha = 0.9)\n",
    "plt.show()"
   ]
  },
  {
   "cell_type": "code",
   "execution_count": 12,
   "id": "d229a875-ca2a-4b78-a3b0-2a59e61d8757",
   "metadata": {},
   "outputs": [],
   "source": [
    "sample = required\n",
    "distr = scipy.stats.norm(sample.mean(), sample.std(ddof=1))\n",
    "req_normed_pred_int = distr.ppf(alpha/2), distr.ppf(1-alpha/2)"
   ]
  },
  {
   "cell_type": "code",
   "execution_count": 13,
   "id": "5c896f40-8ab8-49dd-868e-ec0dc65e939e",
   "metadata": {},
   "outputs": [
    {
     "data": {
      "text/plain": [
       "(8.833212431921867, 11.640651453353586)"
      ]
     },
     "execution_count": 13,
     "metadata": {},
     "output_type": "execute_result"
    }
   ],
   "source": [
    "req_normed_pred_int"
   ]
  },
  {
   "cell_type": "code",
   "execution_count": 14,
   "id": "88931b3d-8e9a-4483-a972-e577ec304069",
   "metadata": {},
   "outputs": [
    {
     "data": {
      "text/plain": [
       "array([  6858.2832337, 113624.1616635])"
      ]
     },
     "execution_count": 14,
     "metadata": {},
     "output_type": "execute_result"
    }
   ],
   "source": [
    "req_pred_int = np.exp(req_normed_pred_int)\n",
    "req_pred_int"
   ]
  },
  {
   "cell_type": "markdown",
   "id": "7d535235-0efd-4897-9207-33cdd653549b",
   "metadata": {},
   "source": [
    "### Результат. 95% Интервал для запрошенной суммы (в рублях)"
   ]
  },
  {
   "cell_type": "markdown",
   "id": "174219a1-d840-4f67-91cc-a7195761f771",
   "metadata": {},
   "source": [
    "##### [  6858.2832337, 113624.1616635]"
   ]
  },
  {
   "cell_type": "markdown",
   "id": "f31b5a40-41f1-49c2-9d5a-907b73170865",
   "metadata": {},
   "source": [
    "### Результат. 95% Интервал для дохода (в рублях)\n",
    "##### [ 13546.87106511, 109409.4154998 ]"
   ]
  },
  {
   "cell_type": "markdown",
   "id": "75df5303-4027-4eb9-81c5-a2587a3abea6",
   "metadata": {},
   "source": [
    "#### **Вывод**: доверительные интервалы заработка и запрошенной суммы кредита не пересекаются \n"
   ]
  },
  {
   "cell_type": "code",
   "execution_count": null,
   "id": "17bdc128-c708-4224-a9dc-8a677f720494",
   "metadata": {},
   "outputs": [],
   "source": []
  }
 ],
 "metadata": {
  "kernelspec": {
   "display_name": "Python 3 (ipykernel)",
   "language": "python",
   "name": "python3"
  },
  "language_info": {
   "codemirror_mode": {
    "name": "ipython",
    "version": 3
   },
   "file_extension": ".py",
   "mimetype": "text/x-python",
   "name": "python",
   "nbconvert_exporter": "python",
   "pygments_lexer": "ipython3",
   "version": "3.10.7"
  }
 },
 "nbformat": 4,
 "nbformat_minor": 5
}
