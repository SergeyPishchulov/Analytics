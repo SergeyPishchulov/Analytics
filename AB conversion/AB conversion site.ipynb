{
 "cells": [
  {
   "cell_type": "code",
   "execution_count": 3,
   "id": "fcfccf88-f6c2-4584-b5fc-f29578513677",
   "metadata": {},
   "outputs": [],
   "source": [
    "from scipy.stats import mannwhitneyu\n",
    "import matplotlib.pyplot as plt"
   ]
  },
  {
   "cell_type": "code",
   "execution_count": 6,
   "id": "2630f38f-ed03-4b29-b848-5d47e74614e7",
   "metadata": {},
   "outputs": [],
   "source": [
    "import pandas as pd\n",
    "import numpy as np\n",
    "alpha = 0.05\n",
    "df = pd.read_excel(\"ABSite.xlsx\")"
   ]
  },
  {
   "cell_type": "code",
   "execution_count": 7,
   "id": "cb030050-c900-4e71-8862-bedf70f18ca5",
   "metadata": {},
   "outputs": [],
   "source": [
    "a = df[df[\"Группа\"]==\"А\"][\"Значение\"]\n",
    "b = df[df[\"Группа\"]==\"B\"][\"Значение\"]"
   ]
  },
  {
   "cell_type": "code",
   "execution_count": 24,
   "id": "8970e4d4-b68d-47ec-aa1c-dbed60ffcb51",
   "metadata": {},
   "outputs": [
    {
     "data": {
      "image/png": "[encoded data removed]",
      "text/plain": [
       "<Figure size 432x288 with 1 Axes>"
      ]
     },
     "metadata": {
      "needs_background": "light"
     },
     "output_type": "display_data"
    }
   ],
   "source": [
    "plt.hist(a, bins = 40, color ='green', alpha = 0.7)\n",
    "plt.show()"
   ]
  },
  {
   "cell_type": "code",
   "execution_count": 22,
   "id": "25dfc8fc-932d-4959-b9d4-f27e09913ed5",
   "metadata": {},
   "outputs": [
    {
     "data": {
      "image/png": "[encoded data removed]",
      "text/plain": [
       "<Figure size 432x288 with 1 Axes>"
      ]
     },
     "metadata": {
      "needs_background": "light"
     },
     "output_type": "display_data"
    }
   ],
   "source": [
    "plt.hist(b, bins = 40, color ='blue', alpha = 0.7)\n",
    "plt.show()"
   ]
  },
  {
   "cell_type": "markdown",
   "id": "b6442ef1-a524-4b06-bd6c-035d12d1e0f4",
   "metadata": {},
   "source": [
    "H0: Различий нет \n",
    "<br>\n",
    "H1: Различия есть"
   ]
  },
  {
   "cell_type": "markdown",
   "id": "4e47810b-8b67-423c-bca0-fdce083cab06",
   "metadata": {},
   "source": [
    "**Промежуточный вывод**\n",
    "\n",
    "Выборки независимы, подчиняются нормальному закону. Следовательно, можем использовать критерий Манна-Уитни"
   ]
  },
  {
   "cell_type": "code",
   "execution_count": 21,
   "id": "24847903-2dc5-4686-b43e-99ba1ba09177",
   "metadata": {},
   "outputs": [],
   "source": [
    "(U, p_value) = mannwhitneyu(a, b, alternative='two-sided')"
   ]
  },
  {
   "cell_type": "code",
   "execution_count": 25,
   "id": "82ef0658-fb67-4bdf-a1ea-07d08e9bb1bb",
   "metadata": {},
   "outputs": [
    {
     "data": {
      "text/plain": [
       "0.7214922963378055"
      ]
     },
     "execution_count": 25,
     "metadata": {},
     "output_type": "execute_result"
    }
   ],
   "source": [
    "p_value"
   ]
  },
  {
   "cell_type": "code",
   "execution_count": 24,
   "id": "39bc3406-27f0-41d2-9ba9-1345770af10c",
   "metadata": {},
   "outputs": [
    {
     "data": {
      "text/plain": [
       "False"
      ]
     },
     "execution_count": 24,
     "metadata": {},
     "output_type": "execute_result"
    }
   ],
   "source": [
    "p_value < alpha"
   ]
  },
  {
   "cell_type": "markdown",
   "id": "e3d5c06f-d9a4-4270-9ab4-4b38828b0475",
   "metadata": {},
   "source": [
    "Принимаем Н0. Различие не статзначимо"
   ]
  },
  {
   "cell_type": "markdown",
   "id": "12872490-b50d-4e85-b2b7-e8d1e057d5e1",
   "metadata": {},
   "source": [
    "**Вывод**: Целевая переменная не изменилась"
   ]
  }
 ],
 "metadata": {
  "kernelspec": {
   "display_name": "Python 3 (ipykernel)",
   "language": "python",
   "name": "python3"
  },
  "language_info": {
   "codemirror_mode": {
    "name": "ipython",
    "version": 3
   },
   "file_extension": ".py",
   "mimetype": "text/x-python",
   "name": "python",
   "nbconvert_exporter": "python",
   "pygments_lexer": "ipython3",
   "version": "3.10.7"
  }
 },
 "nbformat": 4,
 "nbformat_minor": 5
}
