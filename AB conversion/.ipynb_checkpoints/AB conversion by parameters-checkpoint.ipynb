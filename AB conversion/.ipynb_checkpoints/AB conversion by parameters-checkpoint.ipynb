{
 "cells": [
  {
   "cell_type": "code",
   "execution_count": 3,
   "id": "9361b173-03d6-4878-8bb3-2ff43ca53aef",
   "metadata": {},
   "outputs": [],
   "source": [
    "from scipy.stats import norm, t\n",
    "import math"
   ]
  },
  {
   "cell_type": "markdown",
   "id": "562b575c-6f59-4717-bf40-c8c24c055c5c",
   "metadata": {},
   "source": [
    "**Задача**:\n",
    "\n",
    "Известна конверсия до введения новой функциональности. 0.11\n",
    "\n",
    "После введения конверсия на выборке размером 1400 уменьшилась до 0.09.\n",
    "\n",
    "Статзначимо ли уменьшение конверсии?"
   ]
  },
  {
   "cell_type": "code",
   "execution_count": 4,
   "id": "4151622f-6864-43be-8d40-17d32bfc8f7b",
   "metadata": {},
   "outputs": [],
   "source": [
    "alpha = 0.05\n",
    "mu = 0.11\n",
    "x_mean = 0.09\n",
    "n = 1400\n"
   ]
  },
  {
   "cell_type": "markdown",
   "id": "039aa405-ec1c-4899-9e1c-24a996e47d30",
   "metadata": {},
   "source": [
    "#### Решение"
   ]
  },
  {
   "cell_type": "markdown",
   "id": "e703224c-523d-46c1-ae1b-f509de955e8e",
   "metadata": {},
   "source": [
    "Рассмотрим задачу с такого ракурса.\n",
    "\n",
    "* Продажа - успех, отсутствие продажи - неудача.\n",
    "\n",
    "* То есть мы имеем дело со случайной величиной, распределенной по Бернулли. \n",
    "\n",
    "* Ее мат. ожидание == вероятность успеха == доля успешных попыток == Конверсия  (до введения фичи) == mu == 0.09.\n",
    "\n",
    "* x_mean - среднее реализованной бернуллиевской сл.величины. На выборке размером 1400 \n",
    "\n",
    "* Тогда знаем ее дисперсию: mu * (1 - mu)\n",
    "\n"
   ]
  },
  {
   "cell_type": "markdown",
   "id": "ac82fc47-84fa-44b1-8268-656ff4c8c01e",
   "metadata": {
    "tags": []
   },
   "source": [
    "H0: Конверсия не изменилась. x_mean == mu"
   ]
  },
  {
   "cell_type": "markdown",
   "id": "f4d23cef-b9cc-4648-9f64-bf8a19891fa7",
   "metadata": {
    "tags": []
   },
   "source": [
    "H1: Конверсия снизилась. x_mean < mu"
   ]
  },
  {
   "cell_type": "markdown",
   "id": "ec29593c-351c-4a1b-88bc-1ff0c8242c23",
   "metadata": {},
   "source": [
    "Посчиатем z-score"
   ]
  },
  {
   "cell_type": "code",
   "execution_count": 6,
   "id": "cd631f7b-f5ce-49ee-b584-dd6eb141c0ea",
   "metadata": {},
   "outputs": [
    {
     "data": {
      "text/plain": [
       "-2.391677773876565"
      ]
     },
     "execution_count": 6,
     "metadata": {},
     "output_type": "execute_result"
    }
   ],
   "source": [
    "z = (x_mean - mu)/(math.sqrt(mu*(1-mu)/n))\n",
    "z"
   ]
  },
  {
   "cell_type": "code",
   "execution_count": 7,
   "id": "11e1a548-d6cd-416b-96f1-b45cf343e9d9",
   "metadata": {},
   "outputs": [
    {
     "data": {
      "text/plain": [
       "0.008385779779039888"
      ]
     },
     "execution_count": 7,
     "metadata": {},
     "output_type": "execute_result"
    }
   ],
   "source": [
    "p_value = norm.cdf(z)\n",
    "p_value"
   ]
  },
  {
   "cell_type": "code",
   "execution_count": 8,
   "id": "3f3ac9de-903a-4c14-b947-5dc968ebc8ce",
   "metadata": {},
   "outputs": [
    {
     "data": {
      "text/plain": [
       "True"
      ]
     },
     "execution_count": 8,
     "metadata": {},
     "output_type": "execute_result"
    }
   ],
   "source": [
    "p_value < alpha"
   ]
  },
  {
   "cell_type": "markdown",
   "id": "eeb66e65-9ddc-4606-976a-75328f261996",
   "metadata": {},
   "source": [
    "Отклоняем H0"
   ]
  },
  {
   "cell_type": "code",
   "execution_count": 6,
   "id": "6a3ebb79-bf06-4111-a977-1078b1051d4e",
   "metadata": {},
   "outputs": [
    {
     "name": "stdout",
     "output_type": "stream",
     "text": [
      "p-value = 0.0084\n"
     ]
    }
   ],
   "source": [
    "print(\"p-value = {:6.4f}\".format(p_value))"
   ]
  },
  {
   "cell_type": "markdown",
   "id": "d091d937-9657-4bd4-abaa-92d217ba0410",
   "metadata": {},
   "source": [
    "**Вывод**: Различия в конверсии стат. значимы. Конверсия в действительности уменьшилась."
   ]
  },
  {
   "cell_type": "markdown",
   "id": "8b431d8d-892e-4bc0-9d44-65583f2de19c",
   "metadata": {},
   "source": [
    "#### AB-тест.\n",
    "\n",
    "Известны размеры выборок, количества успешных лидов.\n",
    "\n",
    "Задача: \n",
    "Определить, изменилась ли конверсия."
   ]
  },
  {
   "cell_type": "code",
   "execution_count": 9,
   "id": "476d2d48-5655-4af6-8a14-536478a3ce7a",
   "metadata": {},
   "outputs": [],
   "source": [
    "n1, p1 = 16500, 1599 #Контроль\n",
    "n2, p2 = 15903, 1580 #Тест"
   ]
  },
  {
   "cell_type": "markdown",
   "id": "79a60a0b-58fc-43df-a12f-0e3565285933",
   "metadata": {},
   "source": [
    "H0: Конверсии равны. p1 == p2"
   ]
  },
  {
   "cell_type": "markdown",
   "id": "56fdeb99-afce-413d-940d-670f5f7d3a42",
   "metadata": {},
   "source": [
    "H1: Конверсии различны. p1 != p2"
   ]
  },
  {
   "cell_type": "markdown",
   "id": "481f6289-a04a-483e-b2c0-8df92b9c98e6",
   "metadata": {},
   "source": [
    "**Промежуточный вывод**:\n",
    "    \n",
    "Выборки независимы, распрдлены по нормальному закону.\n",
    "\n",
    "Можем использовать критерий Стьюдента."
   ]
  },
  {
   "cell_type": "code",
   "execution_count": 12,
   "id": "df728f13-a193-4b96-8fee-741217ba85eb",
   "metadata": {},
   "outputs": [],
   "source": [
    "P = (p1*n1 + p2*n2)/(n1+n2)\n",
    "t_stat = (p1 - p2)/(math.sqrt(P*(1-P)*(1/n1 - 1/n2)))"
   ]
  },
  {
   "cell_type": "code",
   "execution_count": 16,
   "id": "4601e6fd-b0b7-47e2-829d-34b9344f02bc",
   "metadata": {},
   "outputs": [
    {
     "data": {
      "text/plain": [
       "7.926404398041062"
      ]
     },
     "execution_count": 16,
     "metadata": {},
     "output_type": "execute_result"
    }
   ],
   "source": [
    "t_stat"
   ]
  },
  {
   "cell_type": "code",
   "execution_count": 17,
   "id": "a856258e-9400-4ab5-859a-2b7d7acc5a3f",
   "metadata": {},
   "outputs": [
    {
     "data": {
      "text/plain": [
       "0.079894243081432"
      ]
     },
     "execution_count": 17,
     "metadata": {},
     "output_type": "execute_result"
    }
   ],
   "source": [
    "p_value = 2*t.cdf(-t_stat, df = 1) \n",
    "p_value"
   ]
  },
  {
   "cell_type": "code",
   "execution_count": 18,
   "id": "4da4582d-acc5-46e4-9f1e-7c6514d20121",
   "metadata": {},
   "outputs": [
    {
     "data": {
      "text/plain": [
       "False"
      ]
     },
     "execution_count": 18,
     "metadata": {},
     "output_type": "execute_result"
    }
   ],
   "source": [
    "p_value < alpha"
   ]
  },
  {
   "cell_type": "markdown",
   "id": "809207aa-58b0-4976-81e2-33172ef038e0",
   "metadata": {},
   "source": [
    "Результат не статзначим"
   ]
  },
  {
   "cell_type": "markdown",
   "id": "c458c3fd-a7a8-404c-a420-b537b633faf5",
   "metadata": {},
   "source": [
    "**Вывод**: конверсия не изменилась"
   ]
  }
 ],
 "metadata": {
  "kernelspec": {
   "display_name": "Python 3 (ipykernel)",
   "language": "python",
   "name": "python3"
  },
  "language_info": {
   "codemirror_mode": {
    "name": "ipython",
    "version": 3
   },
   "file_extension": ".py",
   "mimetype": "text/x-python",
   "name": "python",
   "nbconvert_exporter": "python",
   "pygments_lexer": "ipython3",
   "version": "3.10.7"
  }
 },
 "nbformat": 4,
 "nbformat_minor": 5
}
