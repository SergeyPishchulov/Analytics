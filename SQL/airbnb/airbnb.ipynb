{
 "cells": [
  {
   "cell_type": "code",
   "execution_count": 1,
   "metadata": {},
   "outputs": [],
   "source": [
    "import sqlite3\n",
    "import pandas as pd\n",
    "\n",
    "conn = sqlite3.connect('listings.db')\n"
   ]
  },
  {
   "cell_type": "code",
   "execution_count": 2,
   "metadata": {},
   "outputs": [
    {
     "data": {
      "text/plain": [
       "6893"
      ]
     },
     "execution_count": 2,
     "metadata": {},
     "output_type": "execute_result"
    }
   ],
   "source": [
    "df = pd.read_csv('airbnb.csv')\n",
    "df.to_sql('listings', conn, if_exists='append', index=False)"
   ]
  },
  {
   "cell_type": "code",
   "execution_count": 3,
   "metadata": {},
   "outputs": [
    {
     "data": {
      "text/plain": [
       "Engine(sqlite:///listings.db)"
      ]
     },
     "execution_count": 3,
     "metadata": {},
     "output_type": "execute_result"
    }
   ],
   "source": [
    "import sqlalchemy\n",
    "sqlalchemy.create_engine('sqlite:///listings.db')"
   ]
  },
  {
   "cell_type": "code",
   "execution_count": 4,
   "metadata": {},
   "outputs": [],
   "source": [
    "%load_ext sql"
   ]
  },
  {
   "cell_type": "code",
   "execution_count": 5,
   "metadata": {},
   "outputs": [],
   "source": [
    "%%capture \n",
    "%load_ext sql \n",
    "%sql sqlite:///listings.db"
   ]
  },
  {
   "cell_type": "code",
   "execution_count": 6,
   "metadata": {},
   "outputs": [],
   "source": [
    "# %%sql\n",
    "\n",
    "# SELECT * FROM listings\n",
    "# LIMIT 10"
   ]
  },
  {
   "cell_type": "code",
   "execution_count": 7,
   "metadata": {},
   "outputs": [
    {
     "name": "stdout",
     "output_type": "stream",
     "text": [
      " * sqlite:///listings.db\n",
      "Done.\n"
     ]
    },
    {
     "data": {
      "text/html": [
       "<table>\n",
       "    <tr>\n",
       "        <th>sql</th>\n",
       "    </tr>\n",
       "    <tr>\n",
       "        <td>CREATE TABLE &quot;listings&quot; (<br>&quot;id&quot; INTEGER,<br>  &quot;listing_url&quot; TEXT,<br>  &quot;scrape_id&quot; INTEGER,<br>  &quot;last_scraped&quot; TEXT,<br>  &quot;source&quot; TEXT,<br>  &quot;name&quot; TEXT,<br>  &quot;description&quot; TEXT,<br>  &quot;neighborhood_overview&quot; TEXT,<br>  &quot;picture_url&quot; TEXT,<br>  &quot;host_id&quot; INTEGER,<br>  &quot;host_url&quot; TEXT,<br>  &quot;host_name&quot; TEXT,<br>  &quot;host_since&quot; TEXT,<br>  &quot;host_location&quot; TEXT,<br>  &quot;host_about&quot; TEXT,<br>  &quot;host_response_time&quot; TEXT,<br>  &quot;host_response_rate&quot; TEXT,<br>  &quot;host_acceptance_rate&quot; TEXT,<br>  &quot;host_is_superhost&quot; TEXT,<br>  &quot;host_thumbnail_url&quot; TEXT,<br>  &quot;host_picture_url&quot; TEXT,<br>  &quot;host_neighbourhood&quot; TEXT,<br>  &quot;host_listings_count&quot; INTEGER,<br>  &quot;host_total_listings_count&quot; INTEGER,<br>  &quot;host_verifications&quot; TEXT,<br>  &quot;host_has_profile_pic&quot; TEXT,<br>  &quot;host_identity_verified&quot; TEXT,<br>  &quot;neighbourhood&quot; TEXT,<br>  &quot;neighbourhood_cleansed&quot; TEXT,<br>  &quot;neighbourhood_group_cleansed&quot; REAL,<br>  &quot;latitude&quot; REAL,<br>  &quot;longitude&quot; REAL,<br>  &quot;property_type&quot; TEXT,<br>  &quot;room_type&quot; TEXT,<br>  &quot;accommodates&quot; INTEGER,<br>  &quot;bathrooms&quot; REAL,<br>  &quot;bathrooms_text&quot; TEXT,<br>  &quot;bedrooms&quot; REAL,<br>  &quot;beds&quot; REAL,<br>  &quot;amenities&quot; TEXT,<br>  &quot;price&quot; TEXT,<br>  &quot;minimum_nights&quot; INTEGER,<br>  &quot;maximum_nights&quot; INTEGER,<br>  &quot;minimum_minimum_nights&quot; REAL,<br>  &quot;maximum_minimum_nights&quot; REAL,<br>  &quot;minimum_maximum_nights&quot; REAL,<br>  &quot;maximum_maximum_nights&quot; REAL,<br>  &quot;minimum_nights_avg_ntm&quot; REAL,<br>  &quot;maximum_nights_avg_ntm&quot; REAL,<br>  &quot;calendar_updated&quot; REAL,<br>  &quot;has_availability&quot; TEXT,<br>  &quot;availability_30&quot; INTEGER,<br>  &quot;availability_60&quot; INTEGER,<br>  &quot;availability_90&quot; INTEGER,<br>  &quot;availability_365&quot; INTEGER,<br>  &quot;calendar_last_scraped&quot; TEXT,<br>  &quot;number_of_reviews&quot; INTEGER,<br>  &quot;number_of_reviews_ltm&quot; INTEGER,<br>  &quot;number_of_reviews_l30d&quot; INTEGER,<br>  &quot;first_review&quot; TEXT,<br>  &quot;last_review&quot; TEXT,<br>  &quot;review_scores_rating&quot; REAL,<br>  &quot;review_scores_accuracy&quot; REAL,<br>  &quot;review_scores_cleanliness&quot; REAL,<br>  &quot;review_scores_checkin&quot; REAL,<br>  &quot;review_scores_communication&quot; REAL,<br>  &quot;review_scores_location&quot; REAL,<br>  &quot;review_scores_value&quot; REAL,<br>  &quot;license&quot; TEXT,<br>  &quot;instant_bookable&quot; TEXT,<br>  &quot;calculated_host_listings_count&quot; INTEGER,<br>  &quot;calculated_host_listings_count_entire_homes&quot; INTEGER,<br>  &quot;calculated_host_listings_count_private_rooms&quot; INTEGER,<br>  &quot;calculated_host_listings_count_shared_rooms&quot; INTEGER,<br>  &quot;reviews_per_month&quot; REAL<br>)</td>\n",
       "    </tr>\n",
       "</table>"
      ],
      "text/plain": [
       "[('CREATE TABLE \"listings\" (\\n\"id\" INTEGER,\\n  \"listing_url\" TEXT,\\n  \"scrape_id\" INTEGER,\\n  \"last_scraped\" TEXT,\\n  \"source\" TEXT,\\n  \"name\" TEXT,\\n   ... (1933 characters truncated) ... ,\\n  \"calculated_host_listings_count_private_rooms\" INTEGER,\\n  \"calculated_host_listings_count_shared_rooms\" INTEGER,\\n  \"reviews_per_month\" REAL\\n)',)]"
      ]
     },
     "execution_count": 7,
     "metadata": {},
     "output_type": "execute_result"
    }
   ],
   "source": [
    "%%sql\n",
    "\n",
    "SELECT sql FROM sqlite_master\n",
    "WHERE tbl_name = 'listings' AND type = 'table'"
   ]
  },
  {
   "cell_type": "markdown",
   "metadata": {},
   "source": [
    "Распределение количества спален"
   ]
  },
  {
   "cell_type": "code",
   "execution_count": 8,
   "metadata": {},
   "outputs": [
    {
     "name": "stdout",
     "output_type": "stream",
     "text": [
      " * sqlite:///listings.db\n",
      "Done.\n"
     ]
    },
    {
     "data": {
      "text/html": [
       "<table>\n",
       "    <tr>\n",
       "        <th>bedrooms</th>\n",
       "        <th>apartm_count</th>\n",
       "    </tr>\n",
       "    <tr>\n",
       "        <td>None</td>\n",
       "        <td>5040</td>\n",
       "    </tr>\n",
       "    <tr>\n",
       "        <td>1.0</td>\n",
       "        <td>64064</td>\n",
       "    </tr>\n",
       "    <tr>\n",
       "        <td>2.0</td>\n",
       "        <td>25568</td>\n",
       "    </tr>\n",
       "    <tr>\n",
       "        <td>3.0</td>\n",
       "        <td>10816</td>\n",
       "    </tr>\n",
       "    <tr>\n",
       "        <td>4.0</td>\n",
       "        <td>3808</td>\n",
       "    </tr>\n",
       "    <tr>\n",
       "        <td>5.0</td>\n",
       "        <td>736</td>\n",
       "    </tr>\n",
       "    <tr>\n",
       "        <td>6.0</td>\n",
       "        <td>96</td>\n",
       "    </tr>\n",
       "    <tr>\n",
       "        <td>7.0</td>\n",
       "        <td>16</td>\n",
       "    </tr>\n",
       "    <tr>\n",
       "        <td>8.0</td>\n",
       "        <td>64</td>\n",
       "    </tr>\n",
       "    <tr>\n",
       "        <td>10.0</td>\n",
       "        <td>64</td>\n",
       "    </tr>\n",
       "    <tr>\n",
       "        <td>17.0</td>\n",
       "        <td>16</td>\n",
       "    </tr>\n",
       "</table>"
      ],
      "text/plain": [
       "[(None, 5040),\n",
       " (1.0, 64064),\n",
       " (2.0, 25568),\n",
       " (3.0, 10816),\n",
       " (4.0, 3808),\n",
       " (5.0, 736),\n",
       " (6.0, 96),\n",
       " (7.0, 16),\n",
       " (8.0, 64),\n",
       " (10.0, 64),\n",
       " (17.0, 16)]"
      ]
     },
     "execution_count": 8,
     "metadata": {},
     "output_type": "execute_result"
    }
   ],
   "source": [
    "%%sql\n",
    "\n",
    "SELECT bedrooms, COUNT(*) as apartm_count FROM listings\n",
    "GROUP BY bedrooms"
   ]
  },
  {
   "cell_type": "code",
   "execution_count": 9,
   "metadata": {},
   "outputs": [
    {
     "name": "stdout",
     "output_type": "stream",
     "text": [
      " * sqlite:///listings.db\n",
      "Done.\n"
     ]
    },
    {
     "data": {
      "text/html": [
       "<table>\n",
       "    <tr>\n",
       "        <th>accommodates</th>\n",
       "        <th>apartm_count</th>\n",
       "    </tr>\n",
       "    <tr>\n",
       "        <td>0</td>\n",
       "        <td>80</td>\n",
       "    </tr>\n",
       "    <tr>\n",
       "        <td>1</td>\n",
       "        <td>2736</td>\n",
       "    </tr>\n",
       "    <tr>\n",
       "        <td>2</td>\n",
       "        <td>56976</td>\n",
       "    </tr>\n",
       "    <tr>\n",
       "        <td>3</td>\n",
       "        <td>8304</td>\n",
       "    </tr>\n",
       "    <tr>\n",
       "        <td>4</td>\n",
       "        <td>34960</td>\n",
       "    </tr>\n",
       "    <tr>\n",
       "        <td>5</td>\n",
       "        <td>2352</td>\n",
       "    </tr>\n",
       "    <tr>\n",
       "        <td>6</td>\n",
       "        <td>3296</td>\n",
       "    </tr>\n",
       "    <tr>\n",
       "        <td>7</td>\n",
       "        <td>480</td>\n",
       "    </tr>\n",
       "    <tr>\n",
       "        <td>8</td>\n",
       "        <td>432</td>\n",
       "    </tr>\n",
       "    <tr>\n",
       "        <td>9</td>\n",
       "        <td>48</td>\n",
       "    </tr>\n",
       "    <tr>\n",
       "        <td>10</td>\n",
       "        <td>32</td>\n",
       "    </tr>\n",
       "    <tr>\n",
       "        <td>12</td>\n",
       "        <td>176</td>\n",
       "    </tr>\n",
       "    <tr>\n",
       "        <td>13</td>\n",
       "        <td>48</td>\n",
       "    </tr>\n",
       "    <tr>\n",
       "        <td>14</td>\n",
       "        <td>64</td>\n",
       "    </tr>\n",
       "    <tr>\n",
       "        <td>16</td>\n",
       "        <td>304</td>\n",
       "    </tr>\n",
       "</table>"
      ],
      "text/plain": [
       "[(0, 80),\n",
       " (1, 2736),\n",
       " (2, 56976),\n",
       " (3, 8304),\n",
       " (4, 34960),\n",
       " (5, 2352),\n",
       " (6, 3296),\n",
       " (7, 480),\n",
       " (8, 432),\n",
       " (9, 48),\n",
       " (10, 32),\n",
       " (12, 176),\n",
       " (13, 48),\n",
       " (14, 64),\n",
       " (16, 304)]"
      ]
     },
     "execution_count": 9,
     "metadata": {},
     "output_type": "execute_result"
    }
   ],
   "source": [
    "%%sql\n",
    "\n",
    "SELECT accommodates, COUNT(*) as apartm_count FROM listings\n",
    "GROUP BY accommodates"
   ]
  },
  {
   "cell_type": "code",
   "execution_count": 10,
   "metadata": {},
   "outputs": [
    {
     "name": "stdout",
     "output_type": "stream",
     "text": [
      " * sqlite:///listings.db\n",
      "110288 rows affected.\n"
     ]
    },
    {
     "data": {
      "text/plain": [
       "[]"
      ]
     },
     "execution_count": 10,
     "metadata": {},
     "output_type": "execute_result"
    }
   ],
   "source": [
    "%%sql\n",
    "\n",
    "update listings\n",
    "set price = CAST (replace(price, '$', '') as INTEGER)"
   ]
  },
  {
   "cell_type": "code",
   "execution_count": 17,
   "metadata": {},
   "outputs": [
    {
     "name": "stdout",
     "output_type": "stream",
     "text": [
      " * sqlite:///listings.db\n",
      "Done.\n"
     ]
    },
    {
     "data": {
      "text/plain": [
       "[]"
      ]
     },
     "execution_count": 17,
     "metadata": {},
     "output_type": "execute_result"
    }
   ],
   "source": [
    "%%sql\n",
    "\n",
    "\n",
    "CREATE TEMP VIEW IF NOT EXISTS listings_price_rounded\n",
    "AS     select *, ROUND(price/10.0)*10 as price_rounded from listings;\n",
    "\n"
   ]
  },
  {
   "cell_type": "code",
   "execution_count": 20,
   "metadata": {},
   "outputs": [
    {
     "name": "stdout",
     "output_type": "stream",
     "text": [
      " * sqlite:///listings.db\n",
      "Done.\n",
      "Done.\n"
     ]
    },
    {
     "data": {
      "text/plain": [
       "[]"
      ]
     },
     "execution_count": 20,
     "metadata": {},
     "output_type": "execute_result"
    }
   ],
   "source": [
    "%%sql\n",
    "\n",
    "DROP VIEW IF EXISTS price_groups;\n",
    "CREATE TEMP VIEW IF NOT EXISTS price_groups\n",
    "AS     \n",
    "SELECT price_rounded, COUNT(*) as aprt_cnt,\n",
    " ROUND(CAST(COUNT(*) as float) / (SELECT COUNT(*) as total_cnt FROM listings), 2) as ratio_of_total\n",
    "    FROM listings_price_rounded\n",
    "    GROUP BY price_rounded\n",
    "    \n",
    "    \n",
    "\n"
   ]
  },
  {
   "cell_type": "code",
   "execution_count": 21,
   "metadata": {},
   "outputs": [
    {
     "name": "stdout",
     "output_type": "stream",
     "text": [
      " * sqlite:///listings.db\n",
      "Done.\n"
     ]
    },
    {
     "data": {
      "text/html": [
       "<table>\n",
       "    <tr>\n",
       "        <th>price_rounded</th>\n",
       "        <th>aprt_cnt</th>\n",
       "        <th>ratio_of_total</th>\n",
       "    </tr>\n",
       "    <tr>\n",
       "        <td>150.0</td>\n",
       "        <td>6928</td>\n",
       "        <td>0.06</td>\n",
       "    </tr>\n",
       "    <tr>\n",
       "        <td>200.0</td>\n",
       "        <td>6816</td>\n",
       "        <td>0.06</td>\n",
       "    </tr>\n",
       "    <tr>\n",
       "        <td>100.0</td>\n",
       "        <td>6416</td>\n",
       "        <td>0.06</td>\n",
       "    </tr>\n",
       "    <tr>\n",
       "        <td>130.0</td>\n",
       "        <td>5584</td>\n",
       "        <td>0.05</td>\n",
       "    </tr>\n",
       "    <tr>\n",
       "        <td>180.0</td>\n",
       "        <td>5072</td>\n",
       "        <td>0.05</td>\n",
       "    </tr>\n",
       "</table>"
      ],
      "text/plain": [
       "[(150.0, 6928, 0.06),\n",
       " (200.0, 6816, 0.06),\n",
       " (100.0, 6416, 0.06),\n",
       " (130.0, 5584, 0.05),\n",
       " (180.0, 5072, 0.05)]"
      ]
     },
     "execution_count": 21,
     "metadata": {},
     "output_type": "execute_result"
    }
   ],
   "source": [
    "%%sql\n",
    "\n",
    "select * from price_groups\n",
    "ORDER BY aprt_cnt DESC\n",
    "LIMIT 5"
   ]
  },
  {
   "cell_type": "markdown",
   "metadata": {},
   "source": [
    "Самые популярные ценовые категории: `$150`,  `$200`, `$100`"
   ]
  },
  {
   "cell_type": "code",
   "execution_count": 23,
   "metadata": {},
   "outputs": [
    {
     "name": "stdout",
     "output_type": "stream",
     "text": [
      " * sqlite:///listings.db\n",
      "Done.\n"
     ]
    },
    {
     "data": {
      "text/html": [
       "<table>\n",
       "    <tr>\n",
       "        <th>price_rounded</th>\n",
       "        <th>aprt_cnt</th>\n",
       "        <th>ratio_of_total</th>\n",
       "        <th>sum_ratio</th>\n",
       "    </tr>\n",
       "    <tr>\n",
       "        <td>100.0</td>\n",
       "        <td>6416</td>\n",
       "        <td>0.06</td>\n",
       "        <td>0.49000000000000005</td>\n",
       "    </tr>\n",
       "    <tr>\n",
       "        <td>110.0</td>\n",
       "        <td>4112</td>\n",
       "        <td>0.04</td>\n",
       "        <td>0.49000000000000005</td>\n",
       "    </tr>\n",
       "    <tr>\n",
       "        <td>120.0</td>\n",
       "        <td>4864</td>\n",
       "        <td>0.04</td>\n",
       "        <td>0.49000000000000005</td>\n",
       "    </tr>\n",
       "    <tr>\n",
       "        <td>130.0</td>\n",
       "        <td>5584</td>\n",
       "        <td>0.05</td>\n",
       "        <td>0.49000000000000005</td>\n",
       "    </tr>\n",
       "    <tr>\n",
       "        <td>140.0</td>\n",
       "        <td>4672</td>\n",
       "        <td>0.04</td>\n",
       "        <td>0.49000000000000005</td>\n",
       "    </tr>\n",
       "    <tr>\n",
       "        <td>150.0</td>\n",
       "        <td>6928</td>\n",
       "        <td>0.06</td>\n",
       "        <td>0.49000000000000005</td>\n",
       "    </tr>\n",
       "    <tr>\n",
       "        <td>160.0</td>\n",
       "        <td>3792</td>\n",
       "        <td>0.03</td>\n",
       "        <td>0.49000000000000005</td>\n",
       "    </tr>\n",
       "    <tr>\n",
       "        <td>170.0</td>\n",
       "        <td>3024</td>\n",
       "        <td>0.03</td>\n",
       "        <td>0.49000000000000005</td>\n",
       "    </tr>\n",
       "    <tr>\n",
       "        <td>180.0</td>\n",
       "        <td>5072</td>\n",
       "        <td>0.05</td>\n",
       "        <td>0.49000000000000005</td>\n",
       "    </tr>\n",
       "    <tr>\n",
       "        <td>190.0</td>\n",
       "        <td>3408</td>\n",
       "        <td>0.03</td>\n",
       "        <td>0.49000000000000005</td>\n",
       "    </tr>\n",
       "    <tr>\n",
       "        <td>200.0</td>\n",
       "        <td>6816</td>\n",
       "        <td>0.06</td>\n",
       "        <td>0.49000000000000005</td>\n",
       "    </tr>\n",
       "</table>"
      ],
      "text/plain": [
       "[(100.0, 6416, 0.06, 0.49000000000000005),\n",
       " (110.0, 4112, 0.04, 0.49000000000000005),\n",
       " (120.0, 4864, 0.04, 0.49000000000000005),\n",
       " (130.0, 5584, 0.05, 0.49000000000000005),\n",
       " (140.0, 4672, 0.04, 0.49000000000000005),\n",
       " (150.0, 6928, 0.06, 0.49000000000000005),\n",
       " (160.0, 3792, 0.03, 0.49000000000000005),\n",
       " (170.0, 3024, 0.03, 0.49000000000000005),\n",
       " (180.0, 5072, 0.05, 0.49000000000000005),\n",
       " (190.0, 3408, 0.03, 0.49000000000000005),\n",
       " (200.0, 6816, 0.06, 0.49000000000000005)]"
      ]
     },
     "execution_count": 23,
     "metadata": {},
     "output_type": "execute_result"
    }
   ],
   "source": [
    "%%sql\n",
    "\n",
    "select *, sum(ratio_of_total) OVER () as sum_ratio from price_groups\n",
    "WHERE price_rounded BETWEEN 100 AND 200\n",
    "ORDER BY price_rounded ASC\n"
   ]
  },
  {
   "cell_type": "markdown",
   "metadata": {},
   "source": [
    "Квартиры от `$100` до `$200` составляют половину предложений на сайте."
   ]
  },
  {
   "cell_type": "code",
   "execution_count": 24,
   "metadata": {},
   "outputs": [
    {
     "name": "stdout",
     "output_type": "stream",
     "text": [
      " * sqlite:///listings.db\n",
      "Done.\n",
      "Done.\n"
     ]
    },
    {
     "data": {
      "text/plain": [
       "[]"
      ]
     },
     "execution_count": 24,
     "metadata": {},
     "output_type": "execute_result"
    }
   ],
   "source": [
    "%%sql\n",
    "DROP VIEW IF EXISTS revs_cnt_rounded;\n",
    "CREATE TEMP VIEW IF NOT EXISTS revs_cnt_rounded\n",
    "AS  \n",
    "SELECT ROUND(number_of_reviews/100.0)*100 as rev_cnt_rounded\n",
    "FROM listings;"
   ]
  },
  {
   "cell_type": "code",
   "execution_count": 35,
   "metadata": {},
   "outputs": [
    {
     "name": "stdout",
     "output_type": "stream",
     "text": [
      " * sqlite:///listings.db\n",
      "Done.\n"
     ]
    },
    {
     "data": {
      "text/html": [
       "<table>\n",
       "    <tr>\n",
       "        <th>rev_cnt_rounded</th>\n",
       "        <th>aprtm_cnt</th>\n",
       "        <th>ratio_of_total</th>\n",
       "    </tr>\n",
       "    <tr>\n",
       "        <td>0.0</td>\n",
       "        <td>83952</td>\n",
       "        <td>0.7612070216161323</td>\n",
       "    </tr>\n",
       "    <tr>\n",
       "        <td>100.0</td>\n",
       "        <td>16192</td>\n",
       "        <td>0.14681561003917018</td>\n",
       "    </tr>\n",
       "    <tr>\n",
       "        <td>200.0</td>\n",
       "        <td>4832</td>\n",
       "        <td>0.043812563470187145</td>\n",
       "    </tr>\n",
       "    <tr>\n",
       "        <td>300.0</td>\n",
       "        <td>2880</td>\n",
       "        <td>0.026113448425939358</td>\n",
       "    </tr>\n",
       "    <tr>\n",
       "        <td>400.0</td>\n",
       "        <td>1232</td>\n",
       "        <td>0.011170752937762948</td>\n",
       "    </tr>\n",
       "    <tr>\n",
       "        <td>500.0</td>\n",
       "        <td>592</td>\n",
       "        <td>0.005367764398665312</td>\n",
       "    </tr>\n",
       "    <tr>\n",
       "        <td>600.0</td>\n",
       "        <td>256</td>\n",
       "        <td>0.0023211954156390543</td>\n",
       "    </tr>\n",
       "    <tr>\n",
       "        <td>700.0</td>\n",
       "        <td>160</td>\n",
       "        <td>0.001450747134774409</td>\n",
       "    </tr>\n",
       "    <tr>\n",
       "        <td>800.0</td>\n",
       "        <td>64</td>\n",
       "        <td>0.0005802988539097636</td>\n",
       "    </tr>\n",
       "    <tr>\n",
       "        <td>1100.0</td>\n",
       "        <td>32</td>\n",
       "        <td>0.0002901494269548818</td>\n",
       "    </tr>\n",
       "    <tr>\n",
       "        <td>900.0</td>\n",
       "        <td>32</td>\n",
       "        <td>0.0002901494269548818</td>\n",
       "    </tr>\n",
       "    <tr>\n",
       "        <td>1500.0</td>\n",
       "        <td>16</td>\n",
       "        <td>0.0001450747134774409</td>\n",
       "    </tr>\n",
       "    <tr>\n",
       "        <td>1300.0</td>\n",
       "        <td>16</td>\n",
       "        <td>0.0001450747134774409</td>\n",
       "    </tr>\n",
       "    <tr>\n",
       "        <td>1200.0</td>\n",
       "        <td>16</td>\n",
       "        <td>0.0001450747134774409</td>\n",
       "    </tr>\n",
       "    <tr>\n",
       "        <td>1000.0</td>\n",
       "        <td>16</td>\n",
       "        <td>0.0001450747134774409</td>\n",
       "    </tr>\n",
       "</table>"
      ],
      "text/plain": [
       "[(0.0, 83952, 0.7612070216161323),\n",
       " (100.0, 16192, 0.14681561003917018),\n",
       " (200.0, 4832, 0.043812563470187145),\n",
       " (300.0, 2880, 0.026113448425939358),\n",
       " (400.0, 1232, 0.011170752937762948),\n",
       " (500.0, 592, 0.005367764398665312),\n",
       " (600.0, 256, 0.0023211954156390543),\n",
       " (700.0, 160, 0.001450747134774409),\n",
       " (800.0, 64, 0.0005802988539097636),\n",
       " (1100.0, 32, 0.0002901494269548818),\n",
       " (900.0, 32, 0.0002901494269548818),\n",
       " (1500.0, 16, 0.0001450747134774409),\n",
       " (1300.0, 16, 0.0001450747134774409),\n",
       " (1200.0, 16, 0.0001450747134774409),\n",
       " (1000.0, 16, 0.0001450747134774409)]"
      ]
     },
     "execution_count": 35,
     "metadata": {},
     "output_type": "execute_result"
    }
   ],
   "source": [
    "%%sql\n",
    "\n",
    "with reviews_cnt_distr\n",
    "AS (\n",
    "SELECT rev_cnt_rounded, COUNT(*) as aprtm_cnt FROM revs_cnt_rounded\n",
    "GROUP BY rev_cnt_rounded\n",
    "ORDER BY aprtm_cnt DESC\n",
    ")\n",
    "\n",
    "SELECT *, (aprtm_cnt+0.0)/(SUM(aprtm_cnt) OVER ()) as ratio_of_total FROM reviews_cnt_distr\n"
   ]
  },
  {
   "cell_type": "markdown",
   "metadata": {},
   "source": [
    "Чаще всего встречается около 100 ревью о квартире."
   ]
  },
  {
   "cell_type": "markdown",
   "metadata": {},
   "source": [
    "76% объявлений имеют меньше 50 ревью.\n",
    "\n",
    "(Примечание: rev_cnt_rounded - значение, полученное округлением до сотен)"
   ]
  },
  {
   "cell_type": "markdown",
   "metadata": {},
   "source": [
    "Более детально. \n",
    "Насколько много обьявлений имеют меньше 5 ревью?"
   ]
  },
  {
   "cell_type": "code",
   "execution_count": 58,
   "metadata": {},
   "outputs": [
    {
     "name": "stdout",
     "output_type": "stream",
     "text": [
      " * sqlite:///listings.db\n",
      "Done.\n"
     ]
    },
    {
     "data": {
      "text/html": [
       "<table>\n",
       "    <tr>\n",
       "        <th>number_of_reviews</th>\n",
       "        <th>aprtm_cnt</th>\n",
       "        <th>ratio_from_total</th>\n",
       "        <th>ratio_cum_sum</th>\n",
       "    </tr>\n",
       "    <tr>\n",
       "        <td>0</td>\n",
       "        <td>10336</td>\n",
       "        <td>0.0937182649064268</td>\n",
       "        <td>0.0937182649064268</td>\n",
       "    </tr>\n",
       "    <tr>\n",
       "        <td>1</td>\n",
       "        <td>6176</td>\n",
       "        <td>0.05599883940229218</td>\n",
       "        <td>0.14971710430871898</td>\n",
       "    </tr>\n",
       "    <tr>\n",
       "        <td>2</td>\n",
       "        <td>5200</td>\n",
       "        <td>0.04714928188016829</td>\n",
       "        <td>0.19686638618888727</td>\n",
       "    </tr>\n",
       "    <tr>\n",
       "        <td>3</td>\n",
       "        <td>4800</td>\n",
       "        <td>0.04352241404323227</td>\n",
       "        <td>0.24038880023211953</td>\n",
       "    </tr>\n",
       "    <tr>\n",
       "        <td>4</td>\n",
       "        <td>4480</td>\n",
       "        <td>0.04062091977368345</td>\n",
       "        <td>0.281009720005803</td>\n",
       "    </tr>\n",
       "    <tr>\n",
       "        <td>5</td>\n",
       "        <td>3808</td>\n",
       "        <td>0.03452778180763093</td>\n",
       "        <td>0.31553750181343393</td>\n",
       "    </tr>\n",
       "    <tr>\n",
       "        <td>6</td>\n",
       "        <td>3168</td>\n",
       "        <td>0.028724793268533295</td>\n",
       "        <td>0.3442622950819672</td>\n",
       "    </tr>\n",
       "    <tr>\n",
       "        <td>7</td>\n",
       "        <td>2960</td>\n",
       "        <td>0.026838821993326562</td>\n",
       "        <td>0.37110111707529375</td>\n",
       "    </tr>\n",
       "    <tr>\n",
       "        <td>8</td>\n",
       "        <td>2368</td>\n",
       "        <td>0.02147105759466125</td>\n",
       "        <td>0.392572174669955</td>\n",
       "    </tr>\n",
       "    <tr>\n",
       "        <td>9</td>\n",
       "        <td>2016</td>\n",
       "        <td>0.01827941389815755</td>\n",
       "        <td>0.41085158856811255</td>\n",
       "    </tr>\n",
       "</table>"
      ],
      "text/plain": [
       "[(0, 10336, 0.0937182649064268, 0.0937182649064268),\n",
       " (1, 6176, 0.05599883940229218, 0.14971710430871898),\n",
       " (2, 5200, 0.04714928188016829, 0.19686638618888727),\n",
       " (3, 4800, 0.04352241404323227, 0.24038880023211953),\n",
       " (4, 4480, 0.04062091977368345, 0.281009720005803),\n",
       " (5, 3808, 0.03452778180763093, 0.31553750181343393),\n",
       " (6, 3168, 0.028724793268533295, 0.3442622950819672),\n",
       " (7, 2960, 0.026838821993326562, 0.37110111707529375),\n",
       " (8, 2368, 0.02147105759466125, 0.392572174669955),\n",
       " (9, 2016, 0.01827941389815755, 0.41085158856811255)]"
      ]
     },
     "execution_count": 58,
     "metadata": {},
     "output_type": "execute_result"
    }
   ],
   "source": [
    "%%sql\n",
    "with rev_cnt_distr \n",
    "AS\n",
    "(\n",
    "    SELECT number_of_reviews , count(*) as aprtm_cnt FROM listings\n",
    "    GROUP BY  number_of_reviews\n",
    "),\n",
    "\n",
    "ratios\n",
    "as\n",
    "(SELECT *, (aprtm_cnt+0.0)/(SUM (aprtm_cnt) OVER ()) as ratio_from_total   \n",
    "FROM rev_cnt_distr\n",
    "ORDER BY number_of_reviews)\n",
    "\n",
    "SELECT *, SUM(ratio_from_total) OVER (ORDER BY number_of_reviews) as ratio_cum_sum \n",
    "FROM ratios\n",
    "LIMIT 10\n",
    "\n",
    "\n",
    "\n"
   ]
  },
  {
   "cell_type": "markdown",
   "metadata": {},
   "source": [
    "20% объявлений имеют не больше 2 ревью\n",
    "\n",
    "25% объявлений имеют не больше 3 ревью\n",
    "\n",
    "28% объявлений имеют меньше 5 ревью"
   ]
  }
 ],
 "metadata": {
  "kernelspec": {
   "display_name": "Python 3 (ipykernel)",
   "language": "python",
   "name": "python3"
  },
  "language_info": {
   "codemirror_mode": {
    "name": "ipython",
    "version": 3
   },
   "file_extension": ".py",
   "mimetype": "text/x-python",
   "name": "python",
   "nbconvert_exporter": "python",
   "pygments_lexer": "ipython3",
   "version": "3.10.7"
  },
  "vscode": {
   "interpreter": {
    "hash": "369f2c481f4da34e4445cda3fffd2e751bd1c4d706f27375911949ba6bb62e1c"
   }
  },
  "widgets": {
   "application/vnd.jupyter.widget-state+json": {
    "state": {},
    "version_major": 2,
    "version_minor": 0
   }
  }
 },
 "nbformat": 4,
 "nbformat_minor": 4
}
